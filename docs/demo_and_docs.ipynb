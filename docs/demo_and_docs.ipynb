{
 "cells": [
  {
   "cell_type": "markdown",
   "id": "469175fd-7c45-4a5d-ae04-bb08ce15538d",
   "metadata": {},
   "source": [
    "# Installation\n",
    "\n",
    "You can install SimplestMaps with pip:\n",
    "\n",
    "`pip3 install simplestmaps`\n",
    "\n",
    "(requires python3)\n",
    "\n",
    "# Usage\n",
    "\n",
    "First you need to import some basic utilities that SimplestMaps provides:"
   ]
  },
  {
   "cell_type": "code",
   "execution_count": null,
   "id": "2823b273-8526-45ee-9139-d1a4eab053ea",
   "metadata": {},
   "outputs": [],
   "source": [
    "from simplestmaps import (\n",
    "    draw_map, \n",
    "    marker,\n",
    "    dot,\n",
    "    label,\n",
    "    html,\n",
    "    line,\n",
    "    area,\n",
    "    geojson,\n",
    ")"
   ]
  },
  {
   "cell_type": "markdown",
   "id": "09295fcf-1e21-4f07-a693-9080f65dd576",
   "metadata": {},
   "source": [
    "And then you can use those utilities to plot all kinds of objects:\n",
    "\n",
    "# Drawing points\n",
    "\n",
    "**Markers** are the most basic way of showing a point (coordinates are always lat lon):"
   ]
  },
  {
   "cell_type": "code",
   "execution_count": null,
   "id": "3111919f-51db-4d35-98c5-ebb5afadd773",
   "metadata": {},
   "outputs": [],
   "source": [
    "draw_map(\n",
    "    marker(-20, 30),\n",
    "    marker(40, -100, popup=\"hello world!\"),\n",
    ")"
   ]
  },
  {
   "cell_type": "markdown",
   "id": "4a333af3-0842-4f0e-a068-d506f32c146d",
   "metadata": {},
   "source": [
    "**Dots** are a bit more customizable and less intrussive by default (sizes always in pixels):"
   ]
  },
  {
   "cell_type": "code",
   "execution_count": null,
   "id": "1b93cb1c-ca68-4f84-90e5-5ff7d1b20e50",
   "metadata": {},
   "outputs": [],
   "source": [
    "draw_map(\n",
    "    dot(-20, 30),  # by default: small blue dot\n",
    "    dot(40, -100, popup=\"hello world!\", color=\"green\", radius=10, opacity=0.5, border_color=\"yellow\", border_width=2),\n",
    ")"
   ]
  },
  {
   "cell_type": "markdown",
   "id": "348f0b4c-50d0-4489-908c-7aadddc1e888",
   "metadata": {},
   "source": [
    "You can also draw **text labels** or even **custom html** in the locations of your points:"
   ]
  },
  {
   "cell_type": "code",
   "execution_count": null,
   "id": "c161632f-d3d5-483c-9c31-b4e6d10956f7",
   "metadata": {},
   "outputs": [],
   "source": [
    "draw_map(\n",
    "    label(-20, 30, text=\"hello world!\"),  # by default: small blue text\n",
    "    label(30, -75, text=\"Words\", font=\"Verdana\", size=30, color=\"green\", opacity=0.9, popup=\"this is customizable!\"),\n",
    "\n",
    "    html(10, -40, code='<ul style=\"color:red\"><li><strong>apples</strong></li><li>oranges</li></ul>', popup=\"custom html markers!\"),\n",
    ")"
   ]
  },
  {
   "cell_type": "markdown",
   "id": "aad560f7-6717-49c2-9627-58ac8722d5ee",
   "metadata": {},
   "source": [
    "# Lines and Areas\n",
    "\n",
    "Lines and areas are super easy, they're just sequences of point coordinates and also quite customizable:"
   ]
  },
  {
   "cell_type": "code",
   "execution_count": null,
   "id": "e1ed1b69-71b1-4833-85bd-2236a0b6f24c",
   "metadata": {},
   "outputs": [],
   "source": [
    "draw_map(\n",
    "    line([(-35, -65), (5, -70), (40, -100)]),  # by default: thin line\n",
    "    line([(20, 0), (20, 30), (-20, 30)], color=\"green\", width=10, opacity=0.5, popup=\"hi!\"),\n",
    "\n",
    "    area([(25, -80), (32, -64), (18, -66)]),  # by default: blue area\n",
    "    area([(30, 0), (30, 25), (50, 15), (50, 0)], color=\"green\", opacity=0.2, border_color=\"red\", border_width=2, popup=\"hi!\"),\n",
    ")"
   ]
  },
  {
   "cell_type": "markdown",
   "id": "bb848526-7ea0-44f3-b5c5-3820a0e16561",
   "metadata": {},
   "source": [
    "# Geojson files!\n",
    "\n",
    "It's super simple to just plot the contents of geojson files. \n",
    "\n",
    "To customize the elements from the geojson, you can use the same functions used to create normal elements:\n",
    "\n",
    "- points can be configured to be shown as markers, dots, labels, or htmls\n",
    "- lines can be customized with the lines function\n",
    "- and areas can be customized with the area function"
   ]
  },
  {
   "cell_type": "code",
   "execution_count": null,
   "id": "6ad2b5fd-71a9-410a-8d06-8c09ba927962",
   "metadata": {},
   "outputs": [],
   "source": [
    "draw_map(\n",
    "    geojson(\"./readme_example.geojson\"),\n",
    "\n",
    "    geojson(\"./demo.geojson\", \n",
    "            points_as=label(text=\"X\", color=\"green\"),\n",
    "            lines_as=line(color=\"cyan\", width=20, opacity=0.3),\n",
    "            areas_as=area(color=\"yellow\", border_color=\"black\")),\n",
    ")"
   ]
  },
  {
   "cell_type": "markdown",
   "id": "cf8310d6-8c07-458c-b5d3-b0775cfc3009",
   "metadata": {},
   "source": [
    "# Customizing the map view\n",
    "\n",
    "SimplestMaps uses Folium under the hood, so you can specify a few parameters that are directly translated to the Folium map parameters to customize how it's presented. Right now, you can set the coordinates of the map center, its zoom level, and the tiles to display.\n",
    "\n",
    "(more supported tiles: https://python-visualization.github.io/folium/latest/user_guide/raster_layers/tiles.html )"
   ]
  },
  {
   "cell_type": "code",
   "execution_count": null,
   "id": "98a80639-511a-49d0-b0f4-85f8968bc4ad",
   "metadata": {},
   "outputs": [],
   "source": [
    "draw_map(\n",
    "    geojson(\"./readme_example.geojson\"),\n",
    "    center=(-31.27, -61.49), zoom=14, tiles=\"OpenStreetMap\",\n",
    ")"
   ]
  },
  {
   "cell_type": "markdown",
   "id": "06d2051e-6450-4f0f-89ae-6046f9d166e4",
   "metadata": {},
   "source": [
    "# Sets of points, areas or lines\n",
    "\n",
    "📣 New in v1.5.0! 📣 (no more specific functions like in previous versions)\n",
    "\n",
    "If you have a set of points, lines, or areas for which you want to use the same style, you can also use them in the same functions, no need to do a list comprehension to call marker/dot/area/etc for each element. SimplestMaps is smart enough to guess what you wanted to do:"
   ]
  },
  {
   "cell_type": "code",
   "execution_count": null,
   "id": "44468caa-72ff-4b9c-bd30-20e60294bafc",
   "metadata": {},
   "outputs": [],
   "source": [
    "draw_map(\n",
    "    dot([(0, -80), (0, 0), (0, 80)], color=\"green\", radius=10),\n",
    "    line([\n",
    "        [(10, -100), (10, 100)],\n",
    "        [(-10, -100), (-10, 100)],\n",
    "    ], color=\"yellow\"),\n",
    ")"
   ]
  },
  {
   "cell_type": "markdown",
   "id": "95e2e8c6-d0bd-4a49-a3ec-8fc153ad92ad",
   "metadata": {},
   "source": [
    "# Saving maps to HTML\n",
    "\n",
    "To save a map as an interactive html file, you can use the `save()` method of the returned map:"
   ]
  },
  {
   "cell_type": "code",
   "execution_count": null,
   "id": "dfeb424b-9495-41ec-97ba-6595ceb97100",
   "metadata": {},
   "outputs": [],
   "source": [
    "my_map = draw_map(\n",
    "    marker(40, -100, popup=\"hello world!\"),\n",
    ")\n",
    "\n",
    "my_map.save(\"my_cool_map.html\")"
   ]
  },
  {
   "cell_type": "markdown",
   "id": "d70054b2-f77f-43c4-b3a5-1c483e21ebdd",
   "metadata": {},
   "source": [
    "# Integration with Shapely\n",
    "\n",
    "📣 New in v1.3.0! 📣\n",
    "\n",
    "Shapely is supported out of the box too! You can use its geometries instead of coordinates tuples.\n",
    "\n",
    "SimplestMaps also natively supports Telluric, Satellogic's own lib for geo data, in a very similar way."
   ]
  },
  {
   "cell_type": "code",
   "execution_count": null,
   "id": "18cdabd8-6726-45b0-9ab9-0d31b8aba281",
   "metadata": {},
   "outputs": [],
   "source": [
    "from shapely import Point, LineString, LinearRing, Polygon, MultiPoint, MultiPolygon, MultiLineString\n",
    "\n",
    "# all shapely coordinates are lon, lat!\n",
    "shp_point = Point(-65, -35)\n",
    "shp_multi_point = MultiPoint([[0, 40], [10, 40], [20, 40]])\n",
    "\n",
    "shp_line = LineString([[0, 10], [15, 10], [15, 5]])\n",
    "shp_linear_ring = LinearRing([[0, 0], [-5, -5], [-5, 10]])\n",
    "shp_multi_line = MultiLineString([\n",
    "    [[50, 30], [60, 40]],\n",
    "    [[55, 30], [65, 40]],\n",
    "    [[60, 30], [70, 40]],\n",
    "])\n",
    "shp_multi_linear_ring = MultiLineString([\n",
    "    [[75, 30], [85, 40], [75, 50]],\n",
    "    [[80, 30], [90, 40], [80, 50]],\n",
    "    [[85, 30], [95, 40], [85, 50]],\n",
    "])\n",
    "\n",
    "shp_polygon = Polygon([[-100, 30], [-100, 40], [-80, 35]])\n",
    "shp_multi_polygon = MultiPolygon([\n",
    "    Polygon([(-50, 30), (-50, 40), (-70, 30)]),\n",
    "    Polygon([(-55, 35), (-55, 45), (-75, 35)]),\n",
    "])\n",
    "\n",
    "draw_map(\n",
    "    dot(shp_point, color=\"red\", popup=\"a point\"),\n",
    "    dot(shp_multi_point, color=\"black\", popup=\"a multi point\"),\n",
    "    \n",
    "    line(shp_line, color=\"green\", popup=\"a line\"),\n",
    "    line(shp_multi_line, color=\"purple\", popup=\"a multi line\"),\n",
    "\n",
    "    line(shp_linear_ring, color=\"orange\", popup=\"a linear ring\"),\n",
    "    line(shp_multi_linear_ring, color=\"magenta\", popup=\"a multi linear ring\"),\n",
    "\n",
    "    area(shp_polygon, color=\"cyan\", popup=\"a polygon\"),\n",
    "    area(shp_multi_polygon, color=\"teal\", popup=\"a multi polygon\"),\n",
    ")"
   ]
  },
  {
   "cell_type": "markdown",
   "id": "0680edca-e6e9-40ee-8db8-61d5d6770ccf",
   "metadata": {},
   "source": [
    "# Custom geometry objects instead of (lat,lon) tuples\n",
    "\n",
    "📣 New in v1.2.0! 📣\n",
    "\n",
    "SimplestMaps supports not only (lat,lon) tuples and shapely objects, but any kind of custom coordinate and geometry containing objects you might have. Some are supported out of the box, and others require just a tiny bit of work to make them compatible.\n",
    "\n",
    "If you have a class that represents coordinates and has either:\n",
    "\n",
    "- \"lat\" and \"lon\" attributes\n",
    "- \"latitude\" and \"longitude\" attributes\n",
    "- or \"latitude_deg\" and \"longitude_deg\" attributes\n",
    "\n",
    "Then SimplestMaps already supports them out of the box in all the places where you can use tuples.\n",
    "\n",
    "For instance:"
   ]
  },
  {
   "cell_type": "code",
   "execution_count": null,
   "id": "fd13acdd-3276-4c38-b112-5a5d3a9bbaf4",
   "metadata": {},
   "outputs": [],
   "source": [
    "class House:\n",
    "    def __init__(self, latitude, longitude):\n",
    "        self.latitude = latitude\n",
    "        self.longitude = longitude\n",
    "\n",
    "house_a = House(-35, -65)\n",
    "house_b = House(5, -70)\n",
    "house_c = House(40, -100)\n",
    "\n",
    "draw_map(\n",
    "    marker(house_a),\n",
    "    marker(house_b),\n",
    "    marker(house_c),\n",
    "    line([house_a, house_b, house_c]),\n",
    ")"
   ]
  },
  {
   "cell_type": "markdown",
   "id": "c81917fd-a39d-4a32-8543-1019be61bf00",
   "metadata": {},
   "source": [
    "If your custom geometry objects don't follow those attribute naming conventions or represent more complex types like areas or lines, you can simply extract (lat,lon) tuples and use them as inputs for SimplestMaps. But that's tedious if you are doing lots of maps with your custom types.\n",
    "\n",
    "If that the case, you can tell SimplestMaps how to convert them to avoid having to manually do it each time you need to draw a map. You only need to write a function that is able to receive an instance of your custom type, and return either a single tuple of (lat,lon) coordinates, or a sequence of tuples of (lat,lon) coordinates. \n",
    "\n",
    "Like this:\n",
    "\n",
    "(notice how the converter function used for QuarantineZone can just return a list of House instances, because we also registered a converter for House. SimplestMaps tries to save you work as much as it can :) )"
   ]
  },
  {
   "cell_type": "code",
   "execution_count": null,
   "id": "c3c728ad-4a93-4169-a235-5a98d4df2086",
   "metadata": {},
   "outputs": [],
   "source": [
    "from simplestmaps import auto_convert\n",
    "\n",
    "class House:\n",
    "    def __init__(self, entrance_latitude, entrance_longitude):\n",
    "        self.entrance_latitude = entrance_latitude\n",
    "        self.entrance_longitude = entrance_longitude\n",
    "        \n",
    "class QuarantineZone:\n",
    "    def __init__(self, houses):\n",
    "        self.houses = houses\n",
    "\n",
    "\n",
    "auto_convert(House, lambda h: (h.entrance_latitude, h.entrance_longitude))\n",
    "auto_convert(QuarantineZone, lambda q: q.houses)\n",
    "\n",
    "house_a = House(-35, -65)\n",
    "house_b = House(5, -70)\n",
    "house_c = House(40, -100)\n",
    "quarantine_zone = QuarantineZone([house_a, house_b, house_c])\n",
    "\n",
    "draw_map(\n",
    "    marker(house_a),\n",
    "    marker(house_b),\n",
    "    marker(house_c),\n",
    "    area(quarantine_zone, color=\"red\"),\n",
    ")"
   ]
  }
 ],
 "metadata": {
  "kernelspec": {
   "display_name": "Python 3 (ipykernel)",
   "language": "python",
   "name": "python3"
  },
  "language_info": {
   "codemirror_mode": {
    "name": "ipython",
    "version": 3
   },
   "file_extension": ".py",
   "mimetype": "text/x-python",
   "name": "python",
   "nbconvert_exporter": "python",
   "pygments_lexer": "ipython3",
   "version": "3.8.10"
  }
 },
 "nbformat": 4,
 "nbformat_minor": 5
}
